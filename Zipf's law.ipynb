{
 "cells": [
  {
   "cell_type": "markdown",
   "metadata": {},
   "source": [
    "# get the name of all files from data folder"
   ]
  },
  {
   "cell_type": "code",
   "execution_count": 2,
   "metadata": {
    "collapsed": false,
    "scrolled": true
   },
   "outputs": [],
   "source": [
    "import os\n",
    "import glob\n",
    "\n",
    "contents = []\n",
    "#json_dir_name = \"C:\\\\Users\\Hemshree\\DataAnalysis4Python_Spring17\\Assignment 2\\Data\"\n",
    "\n",
    "#json_pattern = os.path.join(json_dir_name,'*.json')\n",
    "file_list = glob.glob('Data\\*.json')\n",
    "for file in file_list:\n",
    "    contents.append(file)\n",
    "    #print (file)"
   ]
  },
  {
   "cell_type": "markdown",
   "metadata": {},
   "source": [
    "# get data from all the json files"
   ]
  },
  {
   "cell_type": "code",
   "execution_count": 3,
   "metadata": {
    "collapsed": false,
    "scrolled": false
   },
   "outputs": [],
   "source": [
    "import json\n",
    "for js in file:\n",
    "    with open(file) as json_file:\n",
    "        json_data = json.load(json_file)   #json.load, loads the json data \n",
    "        #print (json_data)"
   ]
  },
  {
   "cell_type": "markdown",
   "metadata": {},
   "source": [
    "# for copying all the files to a single folder"
   ]
  },
  {
   "cell_type": "code",
   "execution_count": 4,
   "metadata": {
    "collapsed": false
   },
   "outputs": [],
   "source": [
    "import shutil\n",
    "import os\n",
    "\n",
    "s = 'Data'\n",
    "source = os.listdir(\"Data\")\n",
    "destination = \"C:\\\\Users\\\\Hemshree\\\\DataAnalysis4Python_Spring17\\\\NLTK\\\\Access-Corpora\\\\ProcessedData1folder\"\n",
    "for files in source:\n",
    "    if files.endswith(\".json\"):\n",
    "        fin= s + '\\\\' +files\n",
    "        shutil.copy(fin,destination)  #shutil.copy copies the file from source to destination mentioned"
   ]
  },
  {
   "cell_type": "markdown",
   "metadata": {},
   "source": [
    "# for copying files to respective folders in hierarchical order"
   ]
  },
  {
   "cell_type": "code",
   "execution_count": 14,
   "metadata": {
    "collapsed": false,
    "scrolled": true
   },
   "outputs": [],
   "source": [
    "import glob\n",
    "import os\n",
    "import shutil\n",
    "import json\n",
    "country=[]\n",
    "state=[]\n",
    "\n",
    "# source = 'C:\\\\Users\\Hemshree\\DataAnalysis4Python_Spring17\\Assignment 2\\Data'\n",
    "# destination = 'C:\\\\Users\\Hemshree\\DataAnalysis4Python_Spring17\\Assignment 2'\n",
    "# for js in json_files:\n",
    "#     with open(os.path.join(path_to_json, js)) as json_file:\n",
    "#         json_data = json.load(json_file)\n",
    "for file in file_list:\n",
    "     with open(file) as json_file:\n",
    "        json_data = json.load(json_file)                    \n",
    "        country.append(json_data['location']['country']) #Getting country name \n",
    "        state.append(json_data['location']['state']) #Getting state name \n",
    "        for c in set(country):\n",
    "            if json_data['location']['country'] == c: #parse to get country\n",
    "                for s in set(state):                  #parse to get state\n",
    "                    if json_data['location']['state'] == s:\n",
    "                        os.makedirs('DataProcessed\\\\'+ c+ '\\\\'+ s, exist_ok=True)\n",
    "                        shutil.copy(json_file.name,'DataProcessed\\\\'+ c+ '\\\\'+ s)\n",
    "                        \n",
    "                        \n",
    "                        \n",
    "    "
   ]
  },
  {
   "cell_type": "code",
   "execution_count": 7,
   "metadata": {
    "collapsed": false
   },
   "outputs": [],
   "source": [
    "import sys, os, json, io, codecs, xlwt\n",
    "from os import walk\n",
    "\n",
    "wb = xlwt.Workbook()\n",
    "ws = wb.add_sheet(\"My Sheet\")\n",
    "\n",
    "restaurantFile = []\n",
    "i = 0\n",
    "path = 'C:\\\\Users\\\\Hemshree\\\\DataAnalysis4Python_Spring17\\\\NLTK\\\\Access-Corpora\\\\Assignment2\\\\'\n",
    "os.chdir(path)\n",
    "for filename in os.listdir('C:\\\\Users\\\\Hemshree\\\\DataAnalysis4Python_Spring17\\\\NLTK\\\\Access-Corpora\\\\Assignment2\\\\'):\n",
    "    if filename.endswith(\".json\"):\n",
    "        with codecs.open('C:\\\\Users\\\\Hemshree\\\\DataAnalysis4Python_Spring17\\\\NLTK\\\\Access-Corpora\\\\Assignment2\\\\'+filename,'r','utf-8') as df:\n",
    "            try:\n",
    "                listing = []\n",
    "                data = json.load(df)\n",
    "                if data[\"term\"]=='restaurants':\n",
    "                    \n",
    "                    restaurantFile.append(filename)\n",
    "\n",
    "                    i+=1      \n",
    "                    print((i*100/6372))\n",
    "\n",
    "                    if not os.path.exists(data[\"location\"][\"country\"]):\n",
    "                        os.makedirs(data[\"location\"][\"country\"])\n",
    "\n",
    "                    os.chdir(data[\"location\"][\"country\"])\n",
    "                    if not os.path.exists(data[\"location\"][\"state\"]):\n",
    "                        os.makedirs(data[\"location\"][\"state\"])\n",
    "\n",
    "                    os.chdir(data[\"location\"][\"state\"])\n",
    "\n",
    "                    df.close()\n",
    "\n",
    "                    os.rename(path+'/'+filename, path+'/'+data[\"location\"][\"country\"]+'/'+data[\"location\"][\"state\"]+'/'+filename)\n",
    "\n",
    "                    os.chdir(path)\n",
    "\n",
    "                    for i in range(0,len(data[\"hours\"][\"day\"])):\n",
    "                        listing.apend([data[\"name\"],data[\"location\"][\"city\"],data[\"location\"][\"country\"],data[\"hours\"][\"day\"][i],data[\"hours\"][\"start\"][i],data[\"hours\"][\"end\"][i]])\n",
    "\n",
    "                        for col in range(0,6):\n",
    "                            ws.write(i,col,listin[-1][col])\n",
    "\n",
    "            except ValueError as v:\n",
    "                print(v)\n",
    "                print(filename)\n",
    "\n",
    "    "
   ]
  },
  {
   "cell_type": "markdown",
   "metadata": {},
   "source": [
    "# make a csv file"
   ]
  },
  {
   "cell_type": "code",
   "execution_count": 10,
   "metadata": {
    "collapsed": false
   },
   "outputs": [],
   "source": [
    "import csv\n",
    "\n",
    "with open('ProcessedData.csv', 'w',encoding=\"utf-8\",newline=\"\") as out: #encoding utf necessary, else gives decode error\n",
    "    fieldnames = ['Name of Restaurant', 'City', 'Country Code', 'Days of week', 'Start Time hour','Start Time minute', 'End Time hour', 'End Time minute']\n",
    "    writer = csv.DictWriter(out, fieldnames=fieldnames) \n",
    "    #writes header\n",
    "    writer.writeheader()\n",
    "    for files_list in file_list:  \n",
    "        #parse through the files to get the json data\n",
    "        with open(files_list, 'r') as json_file:\n",
    "            json_data=json.load(json_file)\n",
    "            t=json_data[\"term\"]\n",
    "            if json_data['term'] == 'restaurants':  \n",
    "                #match restaurant term \n",
    "                json_keys= json_data.keys()\n",
    "                for hour in json_keys:\n",
    "                    if hour == \"hours\":            \n",
    "                        #parse through hours and get country, city, days of week\n",
    "                        country_name=json_data[\"location\"][\"country\"]\n",
    "                        city_name=json_data[\"location\"][\"city\"]\n",
    "                        restaurant_name=json_data[\"name\"]\n",
    "                        open_hours=json_data[\"hours\"][0][\"open\"]\n",
    "                        total_open_hours=len(open_hours)-1\n",
    "                        for o_h in open_hours:\n",
    "                            #get days and split time to hours and minutes \n",
    "                            day=open_hours[total_open_hours][\"day\"]\n",
    "                            end_time_hour=open_hours[total_open_hours][\"end\"][:2]\n",
    "                            end_time_minute=open_hours[total_open_hours][\"end\"][2:]\n",
    "                            start_time_hour=open_hours[total_open_hours][\"start\"][:2]\n",
    "                            start_time_minute=open_hours[total_open_hours][\"start\"][2:]\n",
    "                            writer.writerow({'Name of Restaurant':restaurant_name, 'City': city_name, 'Country Code':country_name, 'Days of week':day, 'Start Time hour':start_time_hour,'Start Time minute':start_time_minute, 'End Time hour':end_time_hour, 'End Time minute':end_time_minute})\n",
    "                            total_open_hours-=1\n",
    "                \n",
    "                \n"
   ]
  }
 ],
 "metadata": {
  "anaconda-cloud": {},
  "kernelspec": {
   "display_name": "Python [conda root]",
   "language": "python",
   "name": "conda-root-py"
  },
  "language_info": {
   "codemirror_mode": {
    "name": "ipython",
    "version": 3
   },
   "file_extension": ".py",
   "mimetype": "text/x-python",
   "name": "python",
   "nbconvert_exporter": "python",
   "pygments_lexer": "ipython3",
   "version": "3.5.2"
  }
 },
 "nbformat": 4,
 "nbformat_minor": 1
}
